{
 "cells": [
  {
   "cell_type": "code",
   "execution_count": 1,
   "metadata": {},
   "outputs": [
    {
     "name": "stderr",
     "output_type": "stream",
     "text": [
      "[nltk_data] Downloading package punkt to\n",
      "[nltk_data]     C:\\Users\\amole\\AppData\\Roaming\\nltk_data...\n",
      "[nltk_data]   Package punkt is already up-to-date!\n"
     ]
    }
   ],
   "source": [
    "import dill\n",
    "import random\n",
    "import pandas as pd\n",
    "import numpy as np\n",
    "from sklearn.metrics import roc_curve, auc\n",
    "import torch\n",
    "import torch.nn as nn\n",
    "import nltk\n",
    "\n",
    "nltk.download(\"punkt\")\n",
    "from nltk.tokenize import word_tokenize\n",
    "from torchtext.legacy.data import Field\n",
    "from torchtext.legacy.data import TabularDataset\n",
    "from torchtext.legacy.data import BucketIterator\n",
    "from torchtext.legacy.data import Iterator"
   ]
  },
  {
   "cell_type": "code",
   "execution_count": null,
   "metadata": {},
   "outputs": [],
   "source": [
    "RANDOM_SEED = 2021\n",
    "torch.manual_seed(RANDOM_SEED)\n",
    "torch.backends.cudnn.deterministic = True\n",
    "torch.backends.cudnn.benchmark = False\n",
    "np.random.seed(RANDOM_SEED)\n",
    "random.seed(RANDOM_SEED)\n",
    "\n",
    "DATA_PATH = \"data/processed/\""
   ]
  },
  {
   "cell_type": "code",
   "execution_count": null,
   "metadata": {},
   "outputs": [],
   "source": [
    "class LSTMClassifier(nn.Module):\n",
    "    def __init__(self, num_embeddings, embedding_dim, hidden_size, num_layers, pad_idx):\n",
    "        super().__init__()\n",
    "        self.embed_layer = nn.Embedding(num_embeddings=num_embeddings, embedding_dim=embedding_dim, padding_idx=pad_idx)\n",
    "        self.lstm_layer = nn.LSTM(\n",
    "            input_size=embedding_dim, hidden_size=hidden_size, num_layers=num_layers, bidirectional=True, dropout=0.5\n",
    "        )\n",
    "        self.last_layer = nn.Sequential(\n",
    "            nn.Linear(hidden_size * 2, hidden_size),\n",
    "            nn.Dropout(0.5),\n",
    "            nn.LeakyReLU(),\n",
    "            nn.Linear(hidden_size, 1),\n",
    "            nn.Sigmoid(),\n",
    "        )\n",
    "\n",
    "    def forward(self, x):\n",
    "        embed_x = self.embed_layer(x)\n",
    "        output, (_, _) = self.lstm_layer(embed_x)\n",
    "        last_output = output[:, -1, :]\n",
    "        last_output = self.last_layer(last_output)\n",
    "        return last_output\n",
    "\n",
    "\n",
    "class LSTMPoolingClassifier(nn.Module):\n",
    "    def __init__(self, num_embeddings, embedding_dim, hidden_size, num_layers, pad_idx):\n",
    "        super(LSTMPoolingClassifier, self).__init__()\n",
    "        self.embed_layer = nn.Embedding(num_embeddings=num_embeddings, embedding_dim=embedding_dim, padding_idx=pad_idx)\n",
    "        self.hidden_size = hidden_size\n",
    "        self.embedding_dim = embedding_dim\n",
    "        self.num_layers = num_layers\n",
    "        self.ih2h = nn.LSTM(embedding_dim, hidden_size, num_layers=num_layers,\n",
    "                            bidirectional=True, batch_first=True, dropout=0.5)\n",
    "        self.pool2o = nn.Linear(2 * hidden_size, 1)\n",
    "        self.sigmoid = nn.Sigmoid()\n",
    "        self.softmax = nn.Softmax()\n",
    "        self.dropout = nn.Dropout(p=0.5)\n",
    "\n",
    "    def forward(self, x):\n",
    "        x = self.embed_layer(x)\n",
    "        o, _ = self.ih2h(x)\n",
    "        pool = nn.functional.max_pool1d(o.transpose(1, 2), x.shape[1])\n",
    "        pool = pool.transpose(1, 2).squeeze()\n",
    "        pool = self.dropout(pool)\n",
    "        output = self.sigmoid(self.pool2o(pool))\n",
    "        return output.squeeze()"
   ]
  },
  {
   "cell_type": "code",
   "execution_count": null,
   "metadata": {},
   "outputs": [],
   "source": [
    "def test(model_path):\n",
    "    with open(model_path, \"rb\") as f:\n",
    "        model = dill.load(f)\n",
    "        \n",
    "    sat_test_data = TabularDataset(\n",
    "        path=f\"{DATA_PATH}/sat_test.tsv\",\n",
    "        format=\"tsv\",\n",
    "        fields=[(\"text\", model[\"TEXT\"]), (\"label\", model[\"LABEL\"])],\n",
    "        skip_header=1\n",
    "    )\n",
    "\n",
    "    sat_test_iterator = BucketIterator(\n",
    "        sat_test_data,\n",
    "        batch_size=8, \n",
    "        device=None,\n",
    "        sort=False,\n",
    "        shuffle=False\n",
    "    )\n",
    "    classifier = model[\"classifier\"]\n",
    "    with torch.no_grad():\n",
    "        y_real = []\n",
    "        y_pred = []\n",
    "        classifier.eval()\n",
    "        for batch in sat_test_iterator:\n",
    "            text = batch.text\n",
    "            label = batch.label.type(torch.FloatTensor)\n",
    "\n",
    "            output = classifier(text).flatten().cpu()\n",
    " \n",
    "            y_real += [label]\n",
    "            y_pred += [output]\n",
    "\n",
    "        y_real = torch.cat(y_real)\n",
    "        y_pred = torch.cat(y_pred)\n",
    "\n",
    "    fpr, tpr, _ = roc_curve(y_real, y_pred)\n",
    "    auroc = auc(fpr, tpr)\n",
    "\n",
    "    return auroc.round(5)"
   ]
  },
  {
   "cell_type": "code",
   "execution_count": null,
   "metadata": {},
   "outputs": [],
   "source": [
    "model_list = [\n",
    "    \"baseline_model.dill\",\n",
    "    \"before_tuning_model.dill\",\n",
    "    \"after_tuning_model.dill\",\n",
    "    \"advanced_before_tuning_model.dill\",\n",
    "    \"advanced_after_tuning_model.dill\",\n",
    "]\n",
    "\n",
    "test_auroc = []\n",
    "for file_name in model_list:\n",
    "    model_name = file_name.replace(\".dill\", \"\")\n",
    "    auroc = test(file_name)\n",
    "    test_auroc += [(model_name, auroc)]"
   ]
  }
 ],
 "metadata": {
  "interpreter": {
   "hash": "17fbf677999fc5fe749043b19fa3b893c0f799f15ab6d701afe6a1afe8534606"
  },
  "kernelspec": {
   "display_name": "Python 3.8.12 64-bit ('pytorch': conda)",
   "language": "python",
   "name": "python3"
  },
  "language_info": {
   "codemirror_mode": {
    "name": "ipython",
    "version": 3
   },
   "file_extension": ".py",
   "mimetype": "text/x-python",
   "name": "python",
   "nbconvert_exporter": "python",
   "pygments_lexer": "ipython3",
   "version": "3.8.12"
  },
  "orig_nbformat": 4
 },
 "nbformat": 4,
 "nbformat_minor": 2
}
